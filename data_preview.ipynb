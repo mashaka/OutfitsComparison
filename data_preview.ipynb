{
 "cells": [
  {
   "cell_type": "code",
   "execution_count": 2,
   "metadata": {},
   "outputs": [],
   "source": [
    "import os\n",
    "import pandas as pd"
   ]
  },
  {
   "cell_type": "code",
   "execution_count": 3,
   "metadata": {},
   "outputs": [],
   "source": [
    "DATA_DIR = 'data'\n",
    "\n",
    "LABELS_FILE = 'labels.csv'\n",
    "\n",
    "# Flowers dataset for network sanity checks\n",
    "FLOWERS = os.path.join(DATA_DIR, '17flowers')\n",
    "\n",
    "# Real datasets\n",
    "FASHION_144k = os.path.join(DATA_DIR, '144k')"
   ]
  },
  {
   "cell_type": "code",
   "execution_count": 43,
   "metadata": {
    "collapsed": true
   },
   "outputs": [],
   "source": [
    "df_florwers = pd.read_csv(os.path.join(FLOWERS, LABELS_FILE))"
   ]
  },
  {
   "cell_type": "code",
   "execution_count": 44,
   "metadata": {},
   "outputs": [
    {
     "data": {
      "text/html": [
       "<div>\n",
       "<table border=\"1\" class=\"dataframe\">\n",
       "  <thead>\n",
       "    <tr style=\"text-align: right;\">\n",
       "      <th></th>\n",
       "      <th>id</th>\n",
       "      <th>label</th>\n",
       "      <th>image_name</th>\n",
       "    </tr>\n",
       "  </thead>\n",
       "  <tbody>\n",
       "    <tr>\n",
       "      <th>0</th>\n",
       "      <td>1</td>\n",
       "      <td>0</td>\n",
       "      <td>image_0001.jpg</td>\n",
       "    </tr>\n",
       "    <tr>\n",
       "      <th>1</th>\n",
       "      <td>2</td>\n",
       "      <td>0</td>\n",
       "      <td>image_0002.jpg</td>\n",
       "    </tr>\n",
       "    <tr>\n",
       "      <th>2</th>\n",
       "      <td>3</td>\n",
       "      <td>0</td>\n",
       "      <td>image_0003.jpg</td>\n",
       "    </tr>\n",
       "    <tr>\n",
       "      <th>3</th>\n",
       "      <td>4</td>\n",
       "      <td>0</td>\n",
       "      <td>image_0004.jpg</td>\n",
       "    </tr>\n",
       "    <tr>\n",
       "      <th>4</th>\n",
       "      <td>5</td>\n",
       "      <td>0</td>\n",
       "      <td>image_0005.jpg</td>\n",
       "    </tr>\n",
       "  </tbody>\n",
       "</table>\n",
       "</div>"
      ],
      "text/plain": [
       "   id  label      image_name\n",
       "0   1      0  image_0001.jpg\n",
       "1   2      0  image_0002.jpg\n",
       "2   3      0  image_0003.jpg\n",
       "3   4      0  image_0004.jpg\n",
       "4   5      0  image_0005.jpg"
      ]
     },
     "execution_count": 44,
     "metadata": {},
     "output_type": "execute_result"
    }
   ],
   "source": [
    "df_florwers.head()"
   ]
  },
  {
   "cell_type": "code",
   "execution_count": 5,
   "metadata": {},
   "outputs": [],
   "source": [
    "df_144k = pd.read_csv(os.path.join(FASHION_144k, '144k.csv'))"
   ]
  },
  {
   "cell_type": "code",
   "execution_count": 6,
   "metadata": {},
   "outputs": [
    {
     "data": {
      "text/html": [
       "<div>\n",
       "<style scoped>\n",
       "    .dataframe tbody tr th:only-of-type {\n",
       "        vertical-align: middle;\n",
       "    }\n",
       "\n",
       "    .dataframe tbody tr th {\n",
       "        vertical-align: top;\n",
       "    }\n",
       "\n",
       "    .dataframe thead th {\n",
       "        text-align: right;\n",
       "    }\n",
       "</style>\n",
       "<table border=\"1\" class=\"dataframe\">\n",
       "  <thead>\n",
       "    <tr style=\"text-align: right;\">\n",
       "      <th></th>\n",
       "      <th>dt</th>\n",
       "      <th>relvotes</th>\n",
       "      <th>dat3</th>\n",
       "      <th>dat4</th>\n",
       "      <th>dat5</th>\n",
       "      <th>dat6</th>\n",
       "      <th>dat7</th>\n",
       "      <th>dat8</th>\n",
       "      <th>dat9</th>\n",
       "      <th>dat10</th>\n",
       "      <th>...</th>\n",
       "      <th>dat259</th>\n",
       "      <th>dat260</th>\n",
       "      <th>dat261</th>\n",
       "      <th>dat262</th>\n",
       "      <th>dat263</th>\n",
       "      <th>dat264</th>\n",
       "      <th>dat265</th>\n",
       "      <th>dat266</th>\n",
       "      <th>dat267</th>\n",
       "      <th>dat268</th>\n",
       "    </tr>\n",
       "  </thead>\n",
       "  <tbody>\n",
       "    <tr>\n",
       "      <th>0</th>\n",
       "      <td>1.971681</td>\n",
       "      <td>10</td>\n",
       "      <td>-1.163832</td>\n",
       "      <td>-0.377005</td>\n",
       "      <td>0.974638</td>\n",
       "      <td>0.825289</td>\n",
       "      <td>0.350482</td>\n",
       "      <td>-1.557694</td>\n",
       "      <td>0.178111</td>\n",
       "      <td>-0.489689</td>\n",
       "      <td>...</td>\n",
       "      <td>-0.806893</td>\n",
       "      <td>-0.391937</td>\n",
       "      <td>0.152572</td>\n",
       "      <td>-1.069564</td>\n",
       "      <td>0.380985</td>\n",
       "      <td>-0.224829</td>\n",
       "      <td>0.800282</td>\n",
       "      <td>0.065237</td>\n",
       "      <td>-0.134836</td>\n",
       "      <td>0</td>\n",
       "    </tr>\n",
       "    <tr>\n",
       "      <th>1</th>\n",
       "      <td>1.959294</td>\n",
       "      <td>2</td>\n",
       "      <td>-1.163832</td>\n",
       "      <td>-0.377005</td>\n",
       "      <td>0.974638</td>\n",
       "      <td>0.825289</td>\n",
       "      <td>0.350482</td>\n",
       "      <td>-1.557694</td>\n",
       "      <td>0.178111</td>\n",
       "      <td>-0.489689</td>\n",
       "      <td>...</td>\n",
       "      <td>-0.806893</td>\n",
       "      <td>-0.391937</td>\n",
       "      <td>0.152572</td>\n",
       "      <td>-1.069564</td>\n",
       "      <td>0.380985</td>\n",
       "      <td>-0.224829</td>\n",
       "      <td>0.800282</td>\n",
       "      <td>0.065237</td>\n",
       "      <td>-0.134836</td>\n",
       "      <td>0</td>\n",
       "    </tr>\n",
       "    <tr>\n",
       "      <th>2</th>\n",
       "      <td>1.954731</td>\n",
       "      <td>1</td>\n",
       "      <td>-1.163832</td>\n",
       "      <td>-0.377005</td>\n",
       "      <td>0.974638</td>\n",
       "      <td>0.825289</td>\n",
       "      <td>0.350482</td>\n",
       "      <td>-1.557694</td>\n",
       "      <td>0.178111</td>\n",
       "      <td>-0.489689</td>\n",
       "      <td>...</td>\n",
       "      <td>-0.806893</td>\n",
       "      <td>-0.391937</td>\n",
       "      <td>0.152572</td>\n",
       "      <td>-1.069564</td>\n",
       "      <td>0.380985</td>\n",
       "      <td>-0.224829</td>\n",
       "      <td>0.800282</td>\n",
       "      <td>0.065237</td>\n",
       "      <td>-0.134836</td>\n",
       "      <td>0</td>\n",
       "    </tr>\n",
       "    <tr>\n",
       "      <th>3</th>\n",
       "      <td>1.959513</td>\n",
       "      <td>3</td>\n",
       "      <td>0.000000</td>\n",
       "      <td>0.000000</td>\n",
       "      <td>0.000000</td>\n",
       "      <td>0.000000</td>\n",
       "      <td>0.000000</td>\n",
       "      <td>0.000000</td>\n",
       "      <td>0.000000</td>\n",
       "      <td>0.000000</td>\n",
       "      <td>...</td>\n",
       "      <td>0.000000</td>\n",
       "      <td>0.000000</td>\n",
       "      <td>0.000000</td>\n",
       "      <td>0.000000</td>\n",
       "      <td>0.000000</td>\n",
       "      <td>0.000000</td>\n",
       "      <td>0.000000</td>\n",
       "      <td>0.000000</td>\n",
       "      <td>0.000000</td>\n",
       "      <td>1</td>\n",
       "    </tr>\n",
       "    <tr>\n",
       "      <th>4</th>\n",
       "      <td>1.959513</td>\n",
       "      <td>7</td>\n",
       "      <td>-1.163832</td>\n",
       "      <td>-0.377005</td>\n",
       "      <td>0.974638</td>\n",
       "      <td>0.825289</td>\n",
       "      <td>0.350482</td>\n",
       "      <td>-1.557694</td>\n",
       "      <td>0.178111</td>\n",
       "      <td>-0.489689</td>\n",
       "      <td>...</td>\n",
       "      <td>-0.806893</td>\n",
       "      <td>-0.391937</td>\n",
       "      <td>0.152572</td>\n",
       "      <td>-1.069564</td>\n",
       "      <td>0.380985</td>\n",
       "      <td>-0.224829</td>\n",
       "      <td>0.800282</td>\n",
       "      <td>0.065237</td>\n",
       "      <td>-0.134836</td>\n",
       "      <td>0</td>\n",
       "    </tr>\n",
       "  </tbody>\n",
       "</table>\n",
       "<p>5 rows × 268 columns</p>\n",
       "</div>"
      ],
      "text/plain": [
       "         dt  relvotes      dat3      dat4      dat5      dat6      dat7  \\\n",
       "0  1.971681        10 -1.163832 -0.377005  0.974638  0.825289  0.350482   \n",
       "1  1.959294         2 -1.163832 -0.377005  0.974638  0.825289  0.350482   \n",
       "2  1.954731         1 -1.163832 -0.377005  0.974638  0.825289  0.350482   \n",
       "3  1.959513         3  0.000000  0.000000  0.000000  0.000000  0.000000   \n",
       "4  1.959513         7 -1.163832 -0.377005  0.974638  0.825289  0.350482   \n",
       "\n",
       "       dat8      dat9     dat10   ...      dat259    dat260    dat261  \\\n",
       "0 -1.557694  0.178111 -0.489689   ...   -0.806893 -0.391937  0.152572   \n",
       "1 -1.557694  0.178111 -0.489689   ...   -0.806893 -0.391937  0.152572   \n",
       "2 -1.557694  0.178111 -0.489689   ...   -0.806893 -0.391937  0.152572   \n",
       "3  0.000000  0.000000  0.000000   ...    0.000000  0.000000  0.000000   \n",
       "4 -1.557694  0.178111 -0.489689   ...   -0.806893 -0.391937  0.152572   \n",
       "\n",
       "     dat262    dat263    dat264    dat265    dat266    dat267  dat268  \n",
       "0 -1.069564  0.380985 -0.224829  0.800282  0.065237 -0.134836       0  \n",
       "1 -1.069564  0.380985 -0.224829  0.800282  0.065237 -0.134836       0  \n",
       "2 -1.069564  0.380985 -0.224829  0.800282  0.065237 -0.134836       0  \n",
       "3  0.000000  0.000000  0.000000  0.000000  0.000000  0.000000       1  \n",
       "4 -1.069564  0.380985 -0.224829  0.800282  0.065237 -0.134836       0  \n",
       "\n",
       "[5 rows x 268 columns]"
      ]
     },
     "execution_count": 6,
     "metadata": {},
     "output_type": "execute_result"
    }
   ],
   "source": [
    "df_144k.head()"
   ]
  },
  {
   "cell_type": "code",
   "execution_count": 10,
   "metadata": {},
   "outputs": [],
   "source": [
    "df_144k_new = pd.DataFrame()"
   ]
  },
  {
   "cell_type": "code",
   "execution_count": 11,
   "metadata": {},
   "outputs": [],
   "source": [
    "df_144k_new['label'] = df_144k['relvotes']"
   ]
  },
  {
   "cell_type": "code",
   "execution_count": 15,
   "metadata": {},
   "outputs": [],
   "source": [
    "df_144k_new['id'] = [i for i in range(len(df_144k))]"
   ]
  },
  {
   "cell_type": "code",
   "execution_count": 19,
   "metadata": {},
   "outputs": [
    {
     "name": "stdout",
     "output_type": "stream",
     "text": [
      "144169 144169\n"
     ]
    }
   ],
   "source": [
    "with open(os.path.join(FASHION_144k, 'photos.txt'), encoding='utf-8') as names_file:\n",
    "    names = names_file.read().splitlines()\n",
    "\n",
    "print(len(names), len(df_144k))"
   ]
  },
  {
   "cell_type": "code",
   "execution_count": 20,
   "metadata": {},
   "outputs": [],
   "source": [
    "df_144k_new['image_name'] = names"
   ]
  },
  {
   "cell_type": "code",
   "execution_count": 21,
   "metadata": {},
   "outputs": [
    {
     "data": {
      "text/html": [
       "<div>\n",
       "<style scoped>\n",
       "    .dataframe tbody tr th:only-of-type {\n",
       "        vertical-align: middle;\n",
       "    }\n",
       "\n",
       "    .dataframe tbody tr th {\n",
       "        vertical-align: top;\n",
       "    }\n",
       "\n",
       "    .dataframe thead th {\n",
       "        text-align: right;\n",
       "    }\n",
       "</style>\n",
       "<table border=\"1\" class=\"dataframe\">\n",
       "  <thead>\n",
       "    <tr style=\"text-align: right;\">\n",
       "      <th></th>\n",
       "      <th>label</th>\n",
       "      <th>id</th>\n",
       "      <th>image_name</th>\n",
       "    </tr>\n",
       "  </thead>\n",
       "  <tbody>\n",
       "    <tr>\n",
       "      <th>0</th>\n",
       "      <td>10</td>\n",
       "      <td>0</td>\n",
       "      <td>6475795322-6475795322_400.jpg</td>\n",
       "    </tr>\n",
       "    <tr>\n",
       "      <th>1</th>\n",
       "      <td>2</td>\n",
       "      <td>1</td>\n",
       "      <td>10515538260-10515538260_400.jpg</td>\n",
       "    </tr>\n",
       "    <tr>\n",
       "      <th>2</th>\n",
       "      <td>1</td>\n",
       "      <td>2</td>\n",
       "      <td>8666979006-8666979006_400.jpg</td>\n",
       "    </tr>\n",
       "    <tr>\n",
       "      <th>3</th>\n",
       "      <td>3</td>\n",
       "      <td>3</td>\n",
       "      <td>2354760120-2354760120_400.jpg</td>\n",
       "    </tr>\n",
       "    <tr>\n",
       "      <th>4</th>\n",
       "      <td>7</td>\n",
       "      <td>4</td>\n",
       "      <td>5482806293-5482806293_400.jpg</td>\n",
       "    </tr>\n",
       "  </tbody>\n",
       "</table>\n",
       "</div>"
      ],
      "text/plain": [
       "   label  id                       image_name\n",
       "0     10   0    6475795322-6475795322_400.jpg\n",
       "1      2   1  10515538260-10515538260_400.jpg\n",
       "2      1   2    8666979006-8666979006_400.jpg\n",
       "3      3   3    2354760120-2354760120_400.jpg\n",
       "4      7   4    5482806293-5482806293_400.jpg"
      ]
     },
     "execution_count": 21,
     "metadata": {},
     "output_type": "execute_result"
    }
   ],
   "source": [
    "df_144k_new.head()"
   ]
  },
  {
   "cell_type": "code",
   "execution_count": 28,
   "metadata": {},
   "outputs": [],
   "source": [
    "df_144k_new.to_csv(os.path.join(FASHION_144k, LABELS_FILE), sep=',', encoding='utf-8', index=False)"
   ]
  },
  {
   "cell_type": "code",
   "execution_count": 26,
   "metadata": {},
   "outputs": [],
   "source": [
    "df_144k_check = pd.read_csv(os.path.join(FASHION_144k, LABELS_FILE))"
   ]
  },
  {
   "cell_type": "code",
   "execution_count": 27,
   "metadata": {},
   "outputs": [
    {
     "data": {
      "text/html": [
       "<div>\n",
       "<style scoped>\n",
       "    .dataframe tbody tr th:only-of-type {\n",
       "        vertical-align: middle;\n",
       "    }\n",
       "\n",
       "    .dataframe tbody tr th {\n",
       "        vertical-align: top;\n",
       "    }\n",
       "\n",
       "    .dataframe thead th {\n",
       "        text-align: right;\n",
       "    }\n",
       "</style>\n",
       "<table border=\"1\" class=\"dataframe\">\n",
       "  <thead>\n",
       "    <tr style=\"text-align: right;\">\n",
       "      <th></th>\n",
       "      <th>Unnamed: 0</th>\n",
       "      <th>label</th>\n",
       "      <th>id</th>\n",
       "      <th>image_name</th>\n",
       "    </tr>\n",
       "  </thead>\n",
       "  <tbody>\n",
       "    <tr>\n",
       "      <th>0</th>\n",
       "      <td>0</td>\n",
       "      <td>10</td>\n",
       "      <td>0</td>\n",
       "      <td>6475795322-6475795322_400.jpg</td>\n",
       "    </tr>\n",
       "    <tr>\n",
       "      <th>1</th>\n",
       "      <td>1</td>\n",
       "      <td>2</td>\n",
       "      <td>1</td>\n",
       "      <td>10515538260-10515538260_400.jpg</td>\n",
       "    </tr>\n",
       "    <tr>\n",
       "      <th>2</th>\n",
       "      <td>2</td>\n",
       "      <td>1</td>\n",
       "      <td>2</td>\n",
       "      <td>8666979006-8666979006_400.jpg</td>\n",
       "    </tr>\n",
       "    <tr>\n",
       "      <th>3</th>\n",
       "      <td>3</td>\n",
       "      <td>3</td>\n",
       "      <td>3</td>\n",
       "      <td>2354760120-2354760120_400.jpg</td>\n",
       "    </tr>\n",
       "    <tr>\n",
       "      <th>4</th>\n",
       "      <td>4</td>\n",
       "      <td>7</td>\n",
       "      <td>4</td>\n",
       "      <td>5482806293-5482806293_400.jpg</td>\n",
       "    </tr>\n",
       "  </tbody>\n",
       "</table>\n",
       "</div>"
      ],
      "text/plain": [
       "   Unnamed: 0  label  id                       image_name\n",
       "0           0     10   0    6475795322-6475795322_400.jpg\n",
       "1           1      2   1  10515538260-10515538260_400.jpg\n",
       "2           2      1   2    8666979006-8666979006_400.jpg\n",
       "3           3      3   3    2354760120-2354760120_400.jpg\n",
       "4           4      7   4    5482806293-5482806293_400.jpg"
      ]
     },
     "execution_count": 27,
     "metadata": {},
     "output_type": "execute_result"
    }
   ],
   "source": [
    "df_144k_check.head()"
   ]
  },
  {
   "cell_type": "code",
   "execution_count": null,
   "metadata": {},
   "outputs": [],
   "source": []
  }
 ],
 "metadata": {
  "kernelspec": {
   "display_name": "Python 3",
   "language": "python",
   "name": "python3"
  },
  "language_info": {
   "codemirror_mode": {
    "name": "ipython",
    "version": 3
   },
   "file_extension": ".py",
   "mimetype": "text/x-python",
   "name": "python",
   "nbconvert_exporter": "python",
   "pygments_lexer": "ipython3",
   "version": "3.6.3"
  }
 },
 "nbformat": 4,
 "nbformat_minor": 2
}
